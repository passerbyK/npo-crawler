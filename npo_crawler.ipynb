{
 "cells": [
  {
   "cell_type": "markdown",
   "id": "5d29cccc",
   "metadata": {},
   "source": [
    "# NPO Crawler v1.1"
   ]
  },
  {
   "cell_type": "markdown",
   "id": "75eeb2ed",
   "metadata": {},
   "source": [
    "Updated on 2024/08/07, by Xiang-Yi Huang"
   ]
  },
  {
   "cell_type": "markdown",
   "id": "67fe0290",
   "metadata": {},
   "source": [
    "### Step 0: Install Required Packages"
   ]
  },
  {
   "cell_type": "code",
   "execution_count": 1,
   "id": "1ea4b24b",
   "metadata": {},
   "outputs": [
    {
     "name": "stdout",
     "output_type": "stream",
     "text": [
      "Requirement already satisfied: selenium in c:\\users\\user\\anaconda3\\lib\\site-packages (4.23.1)\n",
      "Requirement already satisfied: urllib3<3,>=1.26 in c:\\users\\user\\anaconda3\\lib\\site-packages (from urllib3[socks]<3,>=1.26->selenium) (1.26.16)\n",
      "Requirement already satisfied: trio~=0.17 in c:\\users\\user\\anaconda3\\lib\\site-packages (from selenium) (0.26.1)\n",
      "Requirement already satisfied: trio-websocket~=0.9 in c:\\users\\user\\anaconda3\\lib\\site-packages (from selenium) (0.11.1)\n",
      "Requirement already satisfied: certifi>=2021.10.8 in c:\\users\\user\\anaconda3\\lib\\site-packages (from selenium) (2023.11.17)\n",
      "Requirement already satisfied: typing_extensions~=4.9 in c:\\users\\user\\anaconda3\\lib\\site-packages (from selenium) (4.12.2)\n",
      "Requirement already satisfied: websocket-client~=1.8 in c:\\users\\user\\anaconda3\\lib\\site-packages (from selenium) (1.8.0)\n",
      "Requirement already satisfied: attrs>=23.2.0 in c:\\users\\user\\anaconda3\\lib\\site-packages (from trio~=0.17->selenium) (24.1.0)\n",
      "Requirement already satisfied: sortedcontainers in c:\\users\\user\\anaconda3\\lib\\site-packages (from trio~=0.17->selenium) (2.4.0)\n",
      "Requirement already satisfied: idna in c:\\users\\user\\anaconda3\\lib\\site-packages (from trio~=0.17->selenium) (3.4)\n",
      "Requirement already satisfied: outcome in c:\\users\\user\\anaconda3\\lib\\site-packages (from trio~=0.17->selenium) (1.3.0.post0)\n",
      "Requirement already satisfied: sniffio>=1.3.0 in c:\\users\\user\\anaconda3\\lib\\site-packages (from trio~=0.17->selenium) (1.3.1)\n",
      "Requirement already satisfied: cffi>=1.14 in c:\\users\\user\\anaconda3\\lib\\site-packages (from trio~=0.17->selenium) (1.15.1)\n",
      "Requirement already satisfied: wsproto>=0.14 in c:\\users\\user\\anaconda3\\lib\\site-packages (from trio-websocket~=0.9->selenium) (1.2.0)\n",
      "Requirement already satisfied: PySocks!=1.5.7,<2.0,>=1.5.6 in c:\\users\\user\\anaconda3\\lib\\site-packages (from urllib3[socks]<3,>=1.26->selenium) (1.7.1)\n",
      "Requirement already satisfied: pycparser in c:\\users\\user\\anaconda3\\lib\\site-packages (from cffi>=1.14->trio~=0.17->selenium) (2.21)\n",
      "Requirement already satisfied: h11<1,>=0.9.0 in c:\\users\\user\\anaconda3\\lib\\site-packages (from wsproto>=0.14->trio-websocket~=0.9->selenium) (0.14.0)\n"
     ]
    },
    {
     "name": "stderr",
     "output_type": "stream",
     "text": [
      "\n",
      "[notice] A new release of pip is available: 24.1 -> 24.2\n",
      "[notice] To update, run: python.exe -m pip install --upgrade pip\n"
     ]
    },
    {
     "name": "stdout",
     "output_type": "stream",
     "text": [
      "Requirement already satisfied: beautifulsoup4 in c:\\users\\user\\anaconda3\\lib\\site-packages (4.12.2)\n",
      "Requirement already satisfied: soupsieve>1.2 in c:\\users\\user\\anaconda3\\lib\\site-packages (from beautifulsoup4) (2.4)\n"
     ]
    },
    {
     "name": "stderr",
     "output_type": "stream",
     "text": [
      "\n",
      "[notice] A new release of pip is available: 24.1 -> 24.2\n",
      "[notice] To update, run: python.exe -m pip install --upgrade pip\n"
     ]
    },
    {
     "name": "stdout",
     "output_type": "stream",
     "text": [
      "Requirement already satisfied: fake_useragent in c:\\users\\user\\anaconda3\\lib\\site-packages (1.5.1)\n"
     ]
    },
    {
     "name": "stderr",
     "output_type": "stream",
     "text": [
      "\n",
      "[notice] A new release of pip is available: 24.1 -> 24.2\n",
      "[notice] To update, run: python.exe -m pip install --upgrade pip\n"
     ]
    },
    {
     "name": "stdout",
     "output_type": "stream",
     "text": [
      "Requirement already satisfied: webdriver_manager in c:\\users\\user\\anaconda3\\lib\\site-packages (4.0.2)\n",
      "Requirement already satisfied: requests in c:\\users\\user\\anaconda3\\lib\\site-packages (from webdriver_manager) (2.32.2)\n",
      "Requirement already satisfied: python-dotenv in c:\\users\\user\\anaconda3\\lib\\site-packages (from webdriver_manager) (1.0.1)\n",
      "Requirement already satisfied: packaging in c:\\users\\user\\appdata\\roaming\\python\\python311\\site-packages (from webdriver_manager) (23.2)\n",
      "Requirement already satisfied: charset-normalizer<4,>=2 in c:\\users\\user\\anaconda3\\lib\\site-packages (from requests->webdriver_manager) (2.0.4)\n",
      "Requirement already satisfied: idna<4,>=2.5 in c:\\users\\user\\anaconda3\\lib\\site-packages (from requests->webdriver_manager) (3.4)\n",
      "Requirement already satisfied: urllib3<3,>=1.21.1 in c:\\users\\user\\anaconda3\\lib\\site-packages (from requests->webdriver_manager) (1.26.16)\n",
      "Requirement already satisfied: certifi>=2017.4.17 in c:\\users\\user\\anaconda3\\lib\\site-packages (from requests->webdriver_manager) (2023.11.17)\n"
     ]
    },
    {
     "name": "stderr",
     "output_type": "stream",
     "text": [
      "\n",
      "[notice] A new release of pip is available: 24.1 -> 24.2\n",
      "[notice] To update, run: python.exe -m pip install --upgrade pip\n"
     ]
    },
    {
     "name": "stdout",
     "output_type": "stream",
     "text": [
      "Requirement already satisfied: undetected-chromedriver in c:\\users\\user\\anaconda3\\lib\\site-packages (3.5.5)"
     ]
    },
    {
     "name": "stderr",
     "output_type": "stream",
     "text": [
      "\n",
      "[notice] A new release of pip is available: 24.1 -> 24.2\n",
      "[notice] To update, run: python.exe -m pip install --upgrade pip\n"
     ]
    },
    {
     "name": "stdout",
     "output_type": "stream",
     "text": [
      "\n",
      "Requirement already satisfied: selenium>=4.9.0 in c:\\users\\user\\anaconda3\\lib\\site-packages (from undetected-chromedriver) (4.23.1)\n",
      "Requirement already satisfied: requests in c:\\users\\user\\anaconda3\\lib\\site-packages (from undetected-chromedriver) (2.32.2)\n",
      "Requirement already satisfied: websockets in c:\\users\\user\\anaconda3\\lib\\site-packages (from undetected-chromedriver) (12.0)\n",
      "Requirement already satisfied: urllib3<3,>=1.26 in c:\\users\\user\\anaconda3\\lib\\site-packages (from urllib3[socks]<3,>=1.26->selenium>=4.9.0->undetected-chromedriver) (1.26.16)\n",
      "Requirement already satisfied: trio~=0.17 in c:\\users\\user\\anaconda3\\lib\\site-packages (from selenium>=4.9.0->undetected-chromedriver) (0.26.1)\n",
      "Requirement already satisfied: trio-websocket~=0.9 in c:\\users\\user\\anaconda3\\lib\\site-packages (from selenium>=4.9.0->undetected-chromedriver) (0.11.1)\n",
      "Requirement already satisfied: certifi>=2021.10.8 in c:\\users\\user\\anaconda3\\lib\\site-packages (from selenium>=4.9.0->undetected-chromedriver) (2023.11.17)\n",
      "Requirement already satisfied: typing_extensions~=4.9 in c:\\users\\user\\anaconda3\\lib\\site-packages (from selenium>=4.9.0->undetected-chromedriver) (4.12.2)\n",
      "Requirement already satisfied: websocket-client~=1.8 in c:\\users\\user\\anaconda3\\lib\\site-packages (from selenium>=4.9.0->undetected-chromedriver) (1.8.0)\n",
      "Requirement already satisfied: charset-normalizer<4,>=2 in c:\\users\\user\\anaconda3\\lib\\site-packages (from requests->undetected-chromedriver) (2.0.4)\n",
      "Requirement already satisfied: idna<4,>=2.5 in c:\\users\\user\\anaconda3\\lib\\site-packages (from requests->undetected-chromedriver) (3.4)\n",
      "Requirement already satisfied: attrs>=23.2.0 in c:\\users\\user\\anaconda3\\lib\\site-packages (from trio~=0.17->selenium>=4.9.0->undetected-chromedriver) (24.1.0)\n",
      "Requirement already satisfied: sortedcontainers in c:\\users\\user\\anaconda3\\lib\\site-packages (from trio~=0.17->selenium>=4.9.0->undetected-chromedriver) (2.4.0)\n",
      "Requirement already satisfied: outcome in c:\\users\\user\\anaconda3\\lib\\site-packages (from trio~=0.17->selenium>=4.9.0->undetected-chromedriver) (1.3.0.post0)\n",
      "Requirement already satisfied: sniffio>=1.3.0 in c:\\users\\user\\anaconda3\\lib\\site-packages (from trio~=0.17->selenium>=4.9.0->undetected-chromedriver) (1.3.1)\n",
      "Requirement already satisfied: cffi>=1.14 in c:\\users\\user\\anaconda3\\lib\\site-packages (from trio~=0.17->selenium>=4.9.0->undetected-chromedriver) (1.15.1)\n",
      "Requirement already satisfied: wsproto>=0.14 in c:\\users\\user\\anaconda3\\lib\\site-packages (from trio-websocket~=0.9->selenium>=4.9.0->undetected-chromedriver) (1.2.0)\n",
      "Requirement already satisfied: PySocks!=1.5.7,<2.0,>=1.5.6 in c:\\users\\user\\anaconda3\\lib\\site-packages (from urllib3[socks]<3,>=1.26->selenium>=4.9.0->undetected-chromedriver) (1.7.1)\n",
      "Requirement already satisfied: pycparser in c:\\users\\user\\anaconda3\\lib\\site-packages (from cffi>=1.14->trio~=0.17->selenium>=4.9.0->undetected-chromedriver) (2.21)\n",
      "Requirement already satisfied: h11<1,>=0.9.0 in c:\\users\\user\\anaconda3\\lib\\site-packages (from wsproto>=0.14->trio-websocket~=0.9->selenium>=4.9.0->undetected-chromedriver) (0.14.0)\n"
     ]
    }
   ],
   "source": [
    "!pip install beautifulsoup4"
   ]
  },
  {
   "cell_type": "markdown",
   "id": "625719fc",
   "metadata": {},
   "source": [
    "### Step 1: Let's Crawl !\n",
    "In this version, only NPOs in Taipei and New Taipei are crawled."
   ]
  },
  {
   "cell_type": "code",
   "execution_count": 46,
   "id": "f6a7daeb",
   "metadata": {},
   "outputs": [],
   "source": [
    "import requests\n",
    "from bs4 import BeautifulSoup\n",
    "import pandas as pd\n",
    "import concurrent.futures\n",
    "import threading\n",
    "\n",
    "# A lock to ensure thread-safe console output\n",
    "print_lock = threading.Lock()\n",
    "\n",
    "# Function to fetch data for a specific orgid\n",
    "def fetch_data(orgid):\n",
    "    url = f\"https://www.npo.org.tw/orgnpointroduction.aspx?tid=200&orgid={orgid}\"\n",
    "    try:\n",
    "        response = requests.get(url)\n",
    "        response.raise_for_status()  # Check for HTTP errors\n",
    "        soup = BeautifulSoup(response.text, 'html.parser')\n",
    "\n",
    "        # Try to extract the address first to decide whether to continue parsing\n",
    "        try:\n",
    "            intro_list = soup.find(\"div\", class_=\"intro_list\")\n",
    "            address_text = intro_list.find(string=lambda t: \"地址：\" in t)\n",
    "            address = address_text.split(\"地址：\")[1].strip() if address_text else \"\"\n",
    "        except:\n",
    "            address = \"\"\n",
    "\n",
    "        # Filter by address containing \"臺北\", \"台北\", or \"新北\"\n",
    "        if not any(city in address for city in [\"臺北\", \"台北\", \"新北\"]):\n",
    "            with print_lock:\n",
    "                print(f\"Skipping orgid {orgid} (Address does not match)\", flush=True)\n",
    "            return None  # Skip if the address does not meet the condition\n",
    "\n",
    "        # Extract organization code\n",
    "        try:\n",
    "            org_code_text = intro_list.find(string=lambda t: \"機構代碼：\" in t)\n",
    "            org_code = org_code_text.split(\"機構代碼：\")[1].strip() if org_code_text else \"\"\n",
    "        except:\n",
    "            org_code = \"\"\n",
    "\n",
    "        # Extract organization attribute between \"機構屬性：\" and \"服務項目\"\n",
    "        try:\n",
    "            profile_text = soup.find(\"div\", class_=\"profile off\").get_text(strip=True)\n",
    "            if \"機構屬性：\" in profile_text and \"服務項目\" in profile_text:\n",
    "                org_attr = profile_text.split(\"機構屬性：\")[1].split(\"服務項目\")[0].strip()\n",
    "            else:\n",
    "                org_attr = \"\"\n",
    "        except:\n",
    "            org_attr = \"\"\n",
    "\n",
    "        # Extract organization name\n",
    "        try:\n",
    "            org_name_text = intro_list.find(string=lambda t: \"機構名稱：\" in t)\n",
    "            org_name = org_name_text.split(\"機構名稱：\")[1].strip() if org_name_text else \"\"\n",
    "        except:\n",
    "            org_name = \"\"\n",
    "\n",
    "        # Extract CEO\n",
    "        try:\n",
    "            ceo_text = intro_list.find(string=lambda t: \"執行長：\" in t)\n",
    "            ceo = ceo_text.split(\"執行長：\")[1].strip() if ceo_text else \"\"\n",
    "        except:\n",
    "            ceo = \"\"\n",
    "\n",
    "        # Extract contact person\n",
    "        try:\n",
    "            contact_text = intro_list.find(string=lambda t: \"聯絡人：\" in t)\n",
    "            contact = contact_text.split(\"聯絡人：\")[1].strip() if contact_text else \"\"\n",
    "        except:\n",
    "            contact = \"\"\n",
    "\n",
    "        # Extract phone number from <a> tag and any text after it\n",
    "        try:\n",
    "            phone_a_tag = intro_list.find(string=lambda t: \"電話：\" in t).parent.find(\"a\")\n",
    "            phone_text = phone_a_tag.get_text(strip=True) if phone_a_tag else \"\"\n",
    "            \n",
    "            # Check for any text after the <a> tag and concatenate\n",
    "            phone_parent_text = phone_a_tag.parent.get_text(strip=True) if phone_a_tag else \"\"\n",
    "            phone = phone_parent_text.split(\"電話：\")[1].strip() if phone_parent_text else \"\"\n",
    "        except:\n",
    "            phone = \"\"\n",
    "\n",
    "        # Extract fax number (if applicable)\n",
    "        try:\n",
    "            fax_text = intro_list.find(string=lambda t: \"傳真：\" in t)\n",
    "            fax = fax_text.split(\"傳真：\")[1].strip() if fax_text else \"\"\n",
    "        except:\n",
    "            fax = \"\"\n",
    "\n",
    "        # Extract website from <a> tag\n",
    "        try:\n",
    "            website_text = intro_list.find(string=lambda t: \"網址：\" in t).parent.find(\"a\").get_text(strip=True)\n",
    "            website = website_text if website_text else \"\"\n",
    "        except:\n",
    "            website = \"\"\n",
    "\n",
    "        # Extract email from <a> tag\n",
    "        try:\n",
    "            email_text = intro_list.find(string=lambda t: \"電子郵件：\" in t).parent.find(\"a\").get_text(strip=True)\n",
    "            email = email_text if email_text else \"\"\n",
    "        except:\n",
    "            email = \"\"\n",
    "\n",
    "        # Output progress\n",
    "        with print_lock:\n",
    "            print(f\"Processed orgid {orgid}\", flush=True)\n",
    "\n",
    "        # Return the data if the address matches the filter\n",
    "        return {\n",
    "            \"機構代碼\": org_code,\n",
    "            \"機構名稱\": org_name,\n",
    "            \"機構屬性\": org_attr,\n",
    "            \"執行長\": ceo,\n",
    "            \"聯絡人\": contact,\n",
    "            \"電話\": phone,\n",
    "            \"傳真\": fax,\n",
    "            \"網址\": website,\n",
    "            \"電子郵件\": email,\n",
    "            \"地址\": address\n",
    "        }\n",
    "\n",
    "    except Exception as e:\n",
    "        with print_lock:\n",
    "            print(f\"Error fetching orgid {orgid}: {e}\", flush=True)\n",
    "        return None\n",
    "\n",
    "# Function to fetch data for all orgids using multithreading\n",
    "def fetch_all_data(start_id, end_id):\n",
    "    data = []\n",
    "    with concurrent.futures.ThreadPoolExecutor(max_workers=20) as executor:\n",
    "        futures = [executor.submit(fetch_data, orgid) for orgid in range(start_id, end_id + 1)]\n",
    "        for future in concurrent.futures.as_completed(futures):\n",
    "            result = future.result()\n",
    "            if result:  # Only append if result is not None (address matches)\n",
    "                data.append(result)\n",
    "    return data\n",
    "\n",
    "# Function to save the data into a CSV file\n",
    "def save_to_excel(data, filename):\n",
    "    df = pd.DataFrame(data)\n",
    "    \n",
    "    # Some exceptions may occur when converting data types\n",
    "    df[\"機構代碼\"] = pd.to_numeric(df[\"機構代碼\"], errors='coerce')\n",
    "    df = df.sort_values(by=\"機構代碼\")\n",
    "    \n",
    "    df.to_excel(filename, index=False)"
   ]
  },
  {
   "cell_type": "code",
   "execution_count": 47,
   "id": "04def12f",
   "metadata": {},
   "outputs": [
    {
     "name": "stdout",
     "output_type": "stream",
     "text": [
      "Processed orgid 7774\n",
      "Processed orgid 7773\n",
      "Skipping orgid 7782 (Address does not match)\n",
      "Processed orgid 7785\n",
      "Processed orgid 7778\n",
      "Skipping orgid 7781 (Address does not match)\n",
      "Processed orgid 7777\n",
      "Skipping orgid 7779 (Address does not match)\n",
      "Processed orgid 7775\n",
      "Processed orgid 7780\n",
      "Processed orgid 7784\n",
      "Processed orgid 7776\n",
      "Skipping orgid 7783 (Address does not match)\n"
     ]
    }
   ],
   "source": [
    "# Main function\n",
    "start_id = 7773\n",
    "end_id = 7785\n",
    "data = fetch_all_data(start_id, end_id)\n",
    "save_to_excel(data, \"npo_data1.xlsx\")"
   ]
  }
 ],
 "metadata": {
  "kernelspec": {
   "display_name": "Python 3 (ipykernel)",
   "language": "python",
   "name": "python3"
  },
  "language_info": {
   "codemirror_mode": {
    "name": "ipython",
    "version": 3
   },
   "file_extension": ".py",
   "mimetype": "text/x-python",
   "name": "python",
   "nbconvert_exporter": "python",
   "pygments_lexer": "ipython3",
   "version": "3.11.5"
  }
 },
 "nbformat": 4,
 "nbformat_minor": 5
}
